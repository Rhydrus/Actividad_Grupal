{
 "cells": [
  {
   "cell_type": "markdown",
   "id": "4da51e0e",
   "metadata": {},
   "source": [
    "# Detección de anomalías y técnicas de agrupamiento"
   ]
  },
  {
   "cell_type": "markdown",
   "id": "5d7aa9b9",
   "metadata": {},
   "source": [
    "### Objetivos \n",
    "\n",
    "Mediante este trabajo se pretende que poner en práctica la aplicación de los algoritmos de detección de anomalías u outliers y las técnicas de agrupamiento. El objetivo es detectar anomalías, generar y analizar agrupaciones aplicando algoritmos de aprendizaje máquina, con el fin de elegir el mejor método para el conjunto de datos dado. Debe detallar los pasos que hay que realizar para la detección automática de valores inusuales y, por otro lado, analizar los clúster o grupos resultado de aplicar un algoritmo de agrupamiento.\n"
   ]
  },
  {
   "cell_type": "markdown",
   "id": "9588129e",
   "metadata": {},
   "source": [
    "#### Sobre los datos:\n",
    "\n",
    "Se procesaron automáticamente 2126 cardiotocogramas (CTGs) fetales y se midieron las características diagnósticas respectivas. Los CTGs también fueron clasificados por tres obstetras expertos y se asignó una etiqueta de clasificación de consenso a cada uno de ellos. La clasificación fue tanto con respecto a un patrón morfológico (A, B, C...) como a un estado fetal (N, S, P). Por lo tanto, el conjunto de datos se puede utilizar tanto para experimentos de 10 clases como de 3 clases."
   ]
  },
  {
   "cell_type": "code",
   "execution_count": 1,
   "id": "474d59f6",
   "metadata": {},
   "outputs": [],
   "source": [
    "# librerias\n",
    "import numpy as np\n",
    "import pandas as pd"
   ]
  },
  {
   "cell_type": "code",
   "execution_count": null,
   "id": "304fb043",
   "metadata": {},
   "outputs": [],
   "source": [
    "# leemos el conjunto de datos\n",
    "data = "
   ]
  }
 ],
 "metadata": {
  "kernelspec": {
   "display_name": "Python 3 (ipykernel)",
   "language": "python",
   "name": "python3"
  },
  "language_info": {
   "codemirror_mode": {
    "name": "ipython",
    "version": 3
   },
   "file_extension": ".py",
   "mimetype": "text/x-python",
   "name": "python",
   "nbconvert_exporter": "python",
   "pygments_lexer": "ipython3",
   "version": "3.11.4"
  }
 },
 "nbformat": 4,
 "nbformat_minor": 5
}
